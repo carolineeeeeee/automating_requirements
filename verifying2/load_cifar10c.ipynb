{
 "cells": [
  {
   "cell_type": "code",
   "execution_count": 1,
   "source": [
    "import torch\n",
    "import numpy as np\n",
    "from typing import Dict\n",
    "import multiprocessing as mp\n",
    "from torchvision import transforms\n",
    "from torch.utils.data import Dataset\n",
    "from src.utils import get_model"
   ],
   "outputs": [],
   "metadata": {}
  },
  {
   "cell_type": "code",
   "execution_count": 2,
   "source": [
    "ToTensor = transforms.ToTensor()"
   ],
   "outputs": [],
   "metadata": {}
  },
  {
   "cell_type": "code",
   "execution_count": 26,
   "source": [
    "\n",
    "class Cifar10CDataset(Dataset):\n",
    "    def __init__(self, file: str, label_file: str):\n",
    "        self.data = np.load(file)\n",
    "        self.labels = np.load(label_file)\n",
    "\n",
    "    def __len__(self) -> int:\n",
    "        return len(self.data)\n",
    "\n",
    "    def __getitem__(self, index: int) -> Dict:\n",
    "        return ToTensor(self.data[index]), self.labels[index]\n"
   ],
   "outputs": [],
   "metadata": {}
  },
  {
   "cell_type": "code",
   "execution_count": 27,
   "source": [
    "dataset = Cifar10CDataset(\"./data/CIFAR-10-C/contrast.npy\", \"./data/CIFAR-10-C/labels.npy\")"
   ],
   "outputs": [],
   "metadata": {}
  },
  {
   "cell_type": "code",
   "execution_count": 28,
   "source": [
    "dataloader = torch.utils.data.DataLoader(dataset, batch_size=5, shuffle=False, num_workers=mp.cpu_count())\n",
    "device = torch.device('cuda' if torch.cuda.is_available() else 'cpu')"
   ],
   "outputs": [],
   "metadata": {}
  },
  {
   "cell_type": "code",
   "execution_count": 29,
   "source": [
    "model = get_model('Standard').to(device)"
   ],
   "outputs": [],
   "metadata": {}
  },
  {
   "cell_type": "code",
   "execution_count": 30,
   "source": [
    "for i, (images, labels) in enumerate(dataloader):\n",
    "    images = images.to(device)\n",
    "    labels = labels.to(device)\n",
    "    predictions = model(images)\n",
    "    print(predictions)\n",
    "    break"
   ],
   "outputs": [
    {
     "output_type": "stream",
     "name": "stdout",
     "text": [
      "tensor([[-2.6294, -1.5372, -1.1431, 16.5565, -2.7897, -0.1756,  0.2462, -2.8412,\n",
      "         -1.3564, -4.2288],\n",
      "        [ 2.4245,  5.1926, -4.7928, -2.2813, -4.0820, -4.3957, -1.2498, -4.1437,\n",
      "         14.9825, -1.5798],\n",
      "        [-1.1827,  8.9080, -3.5644, -2.9251, -3.9890, -1.9707, -2.8288, -3.1022,\n",
      "         11.3425, -0.6304],\n",
      "        [10.6355, -1.6419,  0.3264,  0.2015, -5.5263, -5.3358, -2.7042, -3.7273,\n",
      "          6.0777,  1.7631],\n",
      "        [-3.8861,  1.2718, -0.1745, -0.5413,  0.1389, -3.0479, 14.7567, -4.4144,\n",
      "         -2.3193, -1.7120]], device='cuda:0', grad_fn=<AddmmBackward>)\n"
     ]
    }
   ],
   "metadata": {}
  },
  {
   "cell_type": "code",
   "execution_count": null,
   "source": [],
   "outputs": [],
   "metadata": {}
  }
 ],
 "metadata": {
  "orig_nbformat": 4,
  "language_info": {
   "name": "python",
   "version": "3.8.10",
   "mimetype": "text/x-python",
   "codemirror_mode": {
    "name": "ipython",
    "version": 3
   },
   "pygments_lexer": "ipython3",
   "nbconvert_exporter": "python",
   "file_extension": ".py"
  },
  "kernelspec": {
   "name": "python3",
   "display_name": "Python 3.8.10 64-bit ('AI': conda)"
  },
  "interpreter": {
   "hash": "d53e0975b3f99f7e4cab8ca370a3b6bcfd0e3ada527133be257f64ea10e8700c"
  }
 },
 "nbformat": 4,
 "nbformat_minor": 2
}