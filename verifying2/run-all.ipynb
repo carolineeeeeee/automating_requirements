{
 "cells": [
  {
   "cell_type": "code",
   "execution_count": 1,
   "source": [
    "from src.constant import *\n",
    "from src.utils import get_transformation_threshold"
   ],
   "outputs": [
    {
     "output_type": "error",
     "ename": "ModuleNotFoundError",
     "evalue": "No module named 'robustbench'",
     "traceback": [
      "\u001b[0;31m---------------------------------------------------------------------------\u001b[0m",
      "\u001b[0;31mModuleNotFoundError\u001b[0m                       Traceback (most recent call last)",
      "\u001b[0;32m<ipython-input-1-157c74a8b71a>\u001b[0m in \u001b[0;36m<module>\u001b[0;34m\u001b[0m\n\u001b[1;32m      1\u001b[0m \u001b[0;32mfrom\u001b[0m \u001b[0msrc\u001b[0m\u001b[0;34m.\u001b[0m\u001b[0mconstant\u001b[0m \u001b[0;32mimport\u001b[0m \u001b[0;34m*\u001b[0m\u001b[0;34m\u001b[0m\u001b[0;34m\u001b[0m\u001b[0m\n\u001b[0;32m----> 2\u001b[0;31m \u001b[0;32mfrom\u001b[0m \u001b[0msrc\u001b[0m\u001b[0;34m.\u001b[0m\u001b[0mutils\u001b[0m \u001b[0;32mimport\u001b[0m \u001b[0mget_transformation_threshold\u001b[0m\u001b[0;34m\u001b[0m\u001b[0;34m\u001b[0m\u001b[0m\n\u001b[0m",
      "\u001b[0;32m~/Local/summer-research/automating_requirements/verifying2/src/utils.py\u001b[0m in \u001b[0;36m<module>\u001b[0;34m\u001b[0m\n\u001b[1;32m     23\u001b[0m \u001b[0;34m\u001b[0m\u001b[0m\n\u001b[1;32m     24\u001b[0m \u001b[0;32mimport\u001b[0m \u001b[0mtorchvision\u001b[0m\u001b[0;34m.\u001b[0m\u001b[0mmodels\u001b[0m \u001b[0;32mas\u001b[0m \u001b[0mmodels\u001b[0m\u001b[0;34m\u001b[0m\u001b[0;34m\u001b[0m\u001b[0m\n\u001b[0;32m---> 25\u001b[0;31m \u001b[0;32mfrom\u001b[0m \u001b[0mrobustbench\u001b[0m \u001b[0;32mimport\u001b[0m \u001b[0mload_model\u001b[0m\u001b[0;34m\u001b[0m\u001b[0;34m\u001b[0m\u001b[0m\n\u001b[0m\u001b[1;32m     26\u001b[0m \u001b[0;34m\u001b[0m\u001b[0m\n\u001b[1;32m     27\u001b[0m \u001b[0;34m\u001b[0m\u001b[0m\n",
      "\u001b[0;31mModuleNotFoundError\u001b[0m: No module named 'robustbench'"
     ]
    }
   ],
   "metadata": {}
  },
  {
   "cell_type": "code",
   "execution_count": null,
   "source": [
    "cifar10_results = []\n",
    "num_batch = 2\n",
    "batch_size = 10\n",
    "\n",
    "for transformation in [\n",
    "        CONTRAST, CONTRAST_G, UNIFORM_NOISE, LOWPASS, HIGHPASS, PHASE_NOISE, DEFOCUS_BLUR, MOTION_BLUR, GLASS_BLUR]:\n",
    "    for rq_type in [\"abs\", \"rel\"]:\n",
    "        # bootstrap\n",
    "        threshold = get_transformation_threshold(transformation, rq_type)\n",
    "        ground_truth, boot_df = preparation_and_bootstrap(\n",
    "            num_batch, batch_size, \"cifar10_data/val\", \"./bootstrap_output\", rq_type, transformation, threshold)\n",
    "        for model_name in ROBUSTBENCH_CIFAR10_MODEL_NAMES:"
   ],
   "outputs": [],
   "metadata": {}
  },
  {
   "cell_type": "code",
   "execution_count": null,
   "source": [
    "cifar10_results = []\n",
    "num_batch = 2\n",
    "batch_size = 10\n",
    "\n",
    "for transformation in [\n",
    "        CONTRAST, CONTRAST_G, UNIFORM_NOISE, LOWPASS, HIGHPASS, PHASE_NOISE, DEFOCUS_BLUR, MOTION_BLUR, GLASS_BLUR]:\n",
    "    for rq_type in [\"abs\", \"rel\"]:\n",
    "        # bootstrap\n",
    "        threshold = get_transformation_threshold(transformation, rq_type)\n",
    "        ground_truth, boot_df = preparation_and_bootstrap(\n",
    "            num_batch, batch_size, \"cifar10_data/val\", \"./bootstrap_output\", rq_type, transformation, threshold)\n",
    "        for model_name in ROBUSTBENCH_CIFAR10_MODEL_NAMES:\n",
    "            record = {\n",
    "                \"dataset\": \"cifar10\",\n",
    "                \"num_batch\": num_batch,\n",
    "                \"threshold\": threshold,\n",
    "                \"batch_size\": batch_size,\n",
    "                \"transformation\": transformation,\n",
    "                \"rq_type\": rq_type,\n",
    "                \"model_name\": model_name,\n",
    "            }\n",
    "            print(record)\n",
    "            # try:\n",
    "            conf, mu, sigma, satisfied = run(ground_truth, boot_df, rq_type, model_name)\n",
    "            record.update({\n",
    "                \"conf\": conf,\n",
    "                \"mu\": mu,\n",
    "                \"sigma\": sigma,\n",
    "                \"satisfied\": satisfied,\n",
    "                \"success\": True\n",
    "            })\n",
    "            # except Exception as e:\n",
    "            #     print(e)\n",
    "            #     record.update({\n",
    "            #         \"conf\": 0,\n",
    "            #         \"mu\": 0,\n",
    "            #         \"sigma\": 0,\n",
    "            #         \"satisfied\": 0,\n",
    "            #         \"success\": False\n",
    "            #     })\n",
    "            cifar10_results.append(record)\n",
    "            df = pd.DataFrame(data=cifar10_results)\n",
    "            df.to_csv(\"result-cifar-1.csv\")"
   ],
   "outputs": [],
   "metadata": {}
  }
 ],
 "metadata": {
  "orig_nbformat": 4,
  "language_info": {
   "name": "python",
   "version": "3.7.10",
   "mimetype": "text/x-python",
   "codemirror_mode": {
    "name": "ipython",
    "version": 3
   },
   "pygments_lexer": "ipython3",
   "nbconvert_exporter": "python",
   "file_extension": ".py"
  },
  "kernelspec": {
   "name": "python3",
   "display_name": "Python 3.7.10 64-bit ('auto-req': conda)"
  },
  "interpreter": {
   "hash": "e7e3e60d799d1753ace45dce35f3505d09e9cfcd571e9f9990e5507ae3cbd44b"
  }
 },
 "nbformat": 4,
 "nbformat_minor": 2
}