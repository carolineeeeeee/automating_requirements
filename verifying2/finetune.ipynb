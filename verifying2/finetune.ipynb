{
 "metadata": {
  "language_info": {
   "codemirror_mode": {
    "name": "ipython",
    "version": 3
   },
   "file_extension": ".py",
   "mimetype": "text/x-python",
   "name": "python",
   "nbconvert_exporter": "python",
   "pygments_lexer": "ipython3",
   "version": "3.8.10"
  },
  "orig_nbformat": 4,
  "kernelspec": {
   "name": "python3",
   "display_name": "Python 3.8.10 64-bit ('AI': conda)"
  },
  "interpreter": {
   "hash": "d53e0975b3f99f7e4cab8ca370a3b6bcfd0e3ada527133be257f64ea10e8700c"
  }
 },
 "nbformat": 4,
 "nbformat_minor": 2,
 "cells": [
  {
   "cell_type": "code",
   "execution_count": null,
   "source": [
    "from tqdm import tqdm\n",
    "# from __future__ import print_function\n",
    "# from __future__ import division\n",
    "import torch\n",
    "import pathlib2\n",
    "from pathlib2 import Path\n",
    "import torch.nn as nn\n",
    "import torch.optim as optim\n",
    "import numpy as np\n",
    "import torchvision\n",
    "import pandas as pd\n",
    "from torchvision import datasets, models, transforms\n",
    "import matplotlib.pyplot as plt\n",
    "from src import constant\n",
    "# from robustbench import load_model\n",
    "from src.utils import get_model\n",
    "import time\n",
    "import glob\n",
    "import os\n",
    "import matplotlib.pyplot as plt\n",
    "import copy\n",
    "from src.bootstrap import Cifar10Bootstrapper\n",
    "from src.job import Cifar10Job\n",
    "from src.utils import get_transformation_threshold, transform_image, transform_image_dir\n",
    "import cv2\n",
    "from src.dataset import GeneralDataset, GeneralDatasetAlter\n",
    "from src.utils import start_matlab\n",
    "import seaborn as sns\n",
    "print(\"PyTorch Version: \",torch.__version__)\n",
    "print(\"Torchvision Version: \",torchvision.__version__)\n",
    "torch.multiprocessing.set_sharing_strategy('file_system')"
   ],
   "outputs": [],
   "metadata": {}
  },
  {
   "cell_type": "code",
   "execution_count": null,
   "source": [
    "%matplotlib inline"
   ],
   "outputs": [],
   "metadata": {}
  },
  {
   "cell_type": "code",
   "execution_count": null,
   "source": [
    "# Models to choose from [resnet, alexnet, vgg, squeezenet, densenet, inception]\n",
    "model_name = \"Kireev2021Effectiveness_Gauss50percent\"\n",
    "num_classes = 10\n",
    "train_dataset_path = \"./transformed_data/train\"\n",
    "val_dataset_path = \"./transformed_data/val\"\n",
    "batch_size = 8\n",
    "num_epochs = 10\n",
    "feature_extract = False"
   ],
   "outputs": [],
   "metadata": {}
  },
  {
   "cell_type": "code",
   "execution_count": null,
   "source": [
    "def train_model(model, dataloaders, criterion, optimizer, device, num_epochs=25):\n",
    "    model.eval()\n",
    "    print(device)\n",
    "    model.to(device)\n",
    "    avg_loss, avg_acc, _ = eval_model(dataloaders['val'], model, criterion, device)\n",
    "    print(f\"initial performance: avg_loss: {avg_loss}, avg_acc: {avg_acc}\")\n",
    "    since = time.time()\n",
    "    \n",
    "    val_acc_history = []\n",
    "    \n",
    "    best_model_wts = copy.deepcopy(model.state_dict())\n",
    "    best_acc = 0.0\n",
    "    loss = {'train': [], 'val': []}\n",
    "    acc = {'train': [], 'val': []}\n",
    "    performance_records = []\n",
    "    result_records = []\n",
    "    pbar = tqdm(total=num_epochs)\n",
    "    for epoch in range(num_epochs):\n",
    "        # print('Epoch {}/{}'.format(epoch, num_epochs - 1))\n",
    "        # print('-' * 10)\n",
    "\n",
    "        # Each epoch has a training and validation phase\n",
    "        for phase in ['train', 'val']:\n",
    "            if phase == 'train':\n",
    "                model.train()  # Set model to training mode\n",
    "            else:\n",
    "                model.eval()   # Set model to evaluate mode\n",
    "            running_loss = 0.0\n",
    "            running_corrects = 0\n",
    "\n",
    "            # Iterate over data.\n",
    "            for inputs, labels, IQA_scores, filepaths in dataloaders[phase]:\n",
    "                inputs = inputs.to(device)\n",
    "                labels = labels.to(device)\n",
    "\n",
    "                # zero the parameter gradients\n",
    "                optimizer.zero_grad()\n",
    "\n",
    "                # forward\n",
    "                # track history if only in train\n",
    "                with torch.set_grad_enabled(phase == 'train'):\n",
    "                    # Get model outputs and calculate loss\n",
    "                    # Special case for inception because in training it has an auxiliary output. In train\n",
    "                    #   mode we calculate the loss by summing the final output and the auxiliary output\n",
    "                    #   but in testing we only consider the final output.\n",
    "                    if phase == 'train':\n",
    "                        # From https://discuss.pytorch.org/t/how-to-optimize-inception-model-with-auxiliary-classifiers/7958\n",
    "                        outputs = model(inputs)\n",
    "                        loss = criterion(outputs, labels)\n",
    "                    else:\n",
    "                        outputs = model(inputs)\n",
    "                        loss = criterion(outputs, labels)\n",
    "\n",
    "                    _, preds = torch.max(outputs, 1)\n",
    "\n",
    "                    # backward + optimize only if in training phase\n",
    "                    if phase == 'train':\n",
    "                        loss.backward()\n",
    "                        optimizer.step()\n",
    "\n",
    "                # statistics\n",
    "                running_loss += loss.item() * inputs.size(0)\n",
    "                running_corrects += torch.sum(preds == labels.data)\n",
    "                # record correctness for each image and their IQA values\n",
    "                corrects = preds == labels.data\n",
    "                for k in range(len(corrects)):\n",
    "                    result_records.append({\n",
    "                        'filepath': str(filepaths[k]),\n",
    "                        'is_correct': bool(corrects[k]),\n",
    "                        'label': int(labels.data[k]),\n",
    "                        'phase': phase,\n",
    "                        'epoch': epoch,\n",
    "                        'pred': int(preds[k]),\n",
    "                        'IQA_score': float(IQA_scores[k])\n",
    "                    })\n",
    "\n",
    "            epoch_loss = running_loss / len(dataloaders[phase].dataset)\n",
    "            epoch_acc = running_corrects.double() / len(dataloaders[phase].dataset)\n",
    "            pbar.set_postfix({'epoch': epoch,'phase': phase,'loss': epoch_loss, 'accuracy': float(epoch_acc)})\n",
    "            # print('{} Loss: {:.4f} Acc: {:.4f}'.format(phase, epoch_loss, epoch_acc))\n",
    "            # loss[phase].append(epoch_loss)\n",
    "            # acc[phase].append(epoch_acc)\n",
    "            performance_records.append({\n",
    "                'epoch': epoch,\n",
    "                'value': float(epoch_loss),\n",
    "                'type': 'loss', \n",
    "                'phase': phase\n",
    "            })\n",
    "            performance_records.append({\n",
    "                'epoch': epoch,\n",
    "                'value': float(epoch_acc),\n",
    "                'type': 'acc', \n",
    "                'phase': phase\n",
    "            })\n",
    "            # deep copy the model\n",
    "            if phase == 'val' and epoch_acc > best_acc:\n",
    "                best_acc = epoch_acc\n",
    "                best_model_wts = copy.deepcopy(model.state_dict())\n",
    "            if phase == 'val':\n",
    "                val_acc_history.append(epoch_acc)\n",
    "        pbar.update()\n",
    "\n",
    "    time_elapsed = time.time() - since\n",
    "    print('Training complete in {:.0f}m {:.0f}s'.format(time_elapsed // 60, time_elapsed % 60))\n",
    "    print('Best val Acc: {:4f}'.format(best_acc))\n",
    "\n",
    "    # plot\n",
    "    # sns.lineplot(x=\"epoch\", y=\"value\",\n",
    "    #          hue=\"type\", style=\"phase\",\n",
    "    #          data=pd.DataFrame(data=performance_records))\n",
    "\n",
    "    # load best model weights\n",
    "    model.load_state_dict(best_model_wts)\n",
    "    return model, val_acc_history, performance_records, result_records"
   ],
   "outputs": [],
   "metadata": {}
  },
  {
   "cell_type": "code",
   "execution_count": null,
   "source": [
    "def eval_model(dataloader, model, criterion, device):\n",
    "    model.eval()\n",
    "    running_loss = 0\n",
    "    running_corrects = 0\n",
    "    result_records = []\n",
    "    for inputs, labels, IQA_scores, filepaths in tqdm(dataloader):\n",
    "        inputs = inputs.to(device)\n",
    "        labels = labels.to(device)\n",
    "        outputs = model(inputs)\n",
    "        loss = criterion(outputs, labels)\n",
    "        _, preds = torch.max(outputs, 1)\n",
    "        running_loss += loss.item() * inputs.size(0)\n",
    "        running_corrects += torch.sum(preds == labels.data)\n",
    "        corrects = preds == labels.data\n",
    "        for k in range(len(filepaths)):\n",
    "            result_records.append({\n",
    "                'filepath': str(filepaths[k]),\n",
    "                'is_correct': bool(corrects[k]),\n",
    "                'label': int(labels.data[k]),\n",
    "                'pred': int(preds[k]),\n",
    "                'IQA_score': float(IQA_scores[k])\n",
    "            })\n",
    "    avg_loss = running_loss / len(dataloader.dataset)\n",
    "    avg_acc = running_corrects.double() / len(dataloader.dataset)\n",
    "    return float(avg_loss), float(avg_acc), pd.DataFrame(data=result_records)"
   ],
   "outputs": [],
   "metadata": {}
  },
  {
   "cell_type": "code",
   "execution_count": null,
   "source": [
    "def set_parameter_requires_grad(model, feature_extracting):\n",
    "    if feature_extracting:\n",
    "        for param in model.parameters():\n",
    "            param.requires_grad = False"
   ],
   "outputs": [],
   "metadata": {}
  },
  {
   "cell_type": "code",
   "execution_count": null,
   "source": [
    "performance_results = []"
   ],
   "outputs": [],
   "metadata": {}
  },
  {
   "cell_type": "code",
   "execution_count": null,
   "source": [
    "data_transforms = {\n",
    "    'train': transforms.Compose([\n",
    "        transforms.ToTensor(),\n",
    "    ]),\n",
    "    'val': transforms.Compose([\n",
    "        transforms.ToTensor(),\n",
    "    ]),\n",
    "}\n",
    "\n",
    "# image_datasets = {\n",
    "#     'train': GeneralDataset(pathlib2.Path(\"./transformed_data/train\")),\n",
    "#     'val': GeneralDataset(pathlib2.Path(\"./transformed_data/val\"))\n",
    "# }\n",
    "\n",
    "image_datasets = {\n",
    "    'train': GeneralDatasetAlter(Path(\"./transformed_data/train\"), Path(\"./data/cifar10_pytorch/train\"), 0.5),\n",
    "    'val': GeneralDatasetAlter(Path(\"./transformed_data/val\"), Path(\"./data/cifar10_pytorch/val\"), 0.5)\n",
    "}\n",
    "\n",
    "\n",
    "# Create training and validation dataloaders\n",
    "dataloaders_dict = {x: torch.utils.data.DataLoader(image_datasets[x], batch_size=batch_size, shuffle=True, num_workers=4) for x in ['train', 'val']}\n",
    "\n",
    "# Detect if we have a GPU available\n",
    "device = torch.device(\"cuda:0\" if torch.cuda.is_available() else \"cpu\")\n",
    "\n",
    "model_ft = get_model(model_name)\n",
    "set_parameter_requires_grad(model_ft, feature_extract)\n",
    "model_ft = model_ft.to(device)"
   ],
   "outputs": [],
   "metadata": {}
  },
  {
   "cell_type": "code",
   "execution_count": null,
   "source": [
    "params_to_update = model_ft.parameters()\n",
    "print(\"Params to learn:\")\n",
    "if feature_extract:\n",
    "    params_to_update = []\n",
    "    for name,param in model_ft.named_parameters():\n",
    "        if param.requires_grad == True:\n",
    "            params_to_update.append(param)\n",
    "            print(\"\\t\",name)\n",
    "else:\n",
    "    for name,param in model_ft.named_parameters():\n",
    "        if param.requires_grad == True:\n",
    "            print(\"\\t\",name)"
   ],
   "outputs": [],
   "metadata": {}
  },
  {
   "cell_type": "code",
   "execution_count": null,
   "source": [
    "optimizer_ft = optim.SGD(params_to_update, lr=0.001, momentum=0.9)\n",
    "criterion = nn.CrossEntropyLoss()\n",
    "# Train and evaluate\n",
    "model_ft, hist, performance_records, result_records = train_model(model_ft, dataloaders_dict, criterion, optimizer_ft, device, num_epochs=num_epochs)"
   ],
   "outputs": [],
   "metadata": {}
  },
  {
   "cell_type": "markdown",
   "source": [
    "# Training Performance"
   ],
   "metadata": {}
  },
  {
   "cell_type": "code",
   "execution_count": null,
   "source": [
    "trained_performance_df = pd.DataFrame(performance_records)\n",
    "trained_performance_df"
   ],
   "outputs": [],
   "metadata": {}
  },
  {
   "cell_type": "markdown",
   "source": [
    "# Training Progress"
   ],
   "metadata": {}
  },
  {
   "cell_type": "code",
   "execution_count": null,
   "source": [
    "sns.lineplot(x=\"epoch\", y=\"value\", style='phase', hue='type', data=trained_performance_df)"
   ],
   "outputs": [],
   "metadata": {}
  },
  {
   "cell_type": "markdown",
   "source": [
    "# Training Records"
   ],
   "metadata": {}
  },
  {
   "cell_type": "code",
   "execution_count": null,
   "source": [
    "result_df = pd.DataFrame(data=result_records)\n",
    "result_df"
   ],
   "outputs": [],
   "metadata": {}
  },
  {
   "cell_type": "markdown",
   "source": [
    "# IQA Analysis"
   ],
   "metadata": {}
  },
  {
   "cell_type": "code",
   "execution_count": null,
   "source": [
    "df1 = result_df[result_df['phase']=='val'].sort_values(by=['IQA_score'])\n",
    "df1['IQA_interval'] = round(df1['IQA_score'], 1)\n",
    "df1"
   ],
   "outputs": [],
   "metadata": {}
  },
  {
   "cell_type": "code",
   "execution_count": null,
   "source": [
    "df1.groupby(by=[\"IQA_interval\"]).sum()"
   ],
   "outputs": [],
   "metadata": {}
  },
  {
   "cell_type": "code",
   "execution_count": null,
   "source": [
    "trained_IQA_int_dist_df = df1[df1['epoch']==df1['epoch'].max()].groupby(by=[\"IQA_interval\"]).sum()[['is_correct']]\n",
    "trained_IQA_int_dist_df"
   ],
   "outputs": [],
   "metadata": {}
  },
  {
   "cell_type": "markdown",
   "source": [
    "# Finetuned Model + Transformed Dataset"
   ],
   "metadata": {}
  },
  {
   "cell_type": "code",
   "execution_count": null,
   "source": [
    "avg_loss, avg_acc, _ = eval_model(dataloaders_dict['val'], model_ft, criterion, device)\n",
    "print(f\"avg_loss: {avg_loss}, avg_acc: {avg_acc}\")\n",
    "performance_results.append({'model': 'original', 'dataset': 'original', 'accuracy': avg_acc, 'loss': avg_loss})"
   ],
   "outputs": [],
   "metadata": {}
  },
  {
   "cell_type": "markdown",
   "source": [
    "# Original Model + Transformed Dataset (val)"
   ],
   "metadata": {}
  },
  {
   "cell_type": "code",
   "execution_count": null,
   "source": [
    "original_model_ft = get_model(model_name)\n",
    "original_model_ft = original_model_ft.to(device)\n",
    "original_model_ft.eval()\n",
    "# evaluate\n",
    "avg_loss, avg_acc, records_df = eval_model(dataloaders_dict['val'], original_model_ft, criterion, device)\n",
    "print(f\"avg_loss: {avg_loss}, avg_acc: {avg_acc}\")\n",
    "performance_results.append({'model': 'original', 'dataset': 'transformed', 'accuracy': avg_acc, 'loss': avg_loss})"
   ],
   "outputs": [],
   "metadata": {}
  },
  {
   "cell_type": "code",
   "execution_count": null,
   "source": [
    "records_df['IQA_interval'] = round(records_df['IQA_score'], 1)\n",
    "records_df"
   ],
   "outputs": [],
   "metadata": {}
  },
  {
   "cell_type": "code",
   "execution_count": null,
   "source": [
    "records_df.sort_values(by=['IQA_score']).groupby(by=['IQA_interval']).sum()\n",
    "orig_IQA_interval_dist_df = records_df.sort_values(by=['IQA_score']).groupby(by=['IQA_interval']).sum()[['is_correct']]\n",
    "orig_IQA_interval_dist_df"
   ],
   "outputs": [],
   "metadata": {}
  },
  {
   "cell_type": "code",
   "execution_count": null,
   "source": [
    "orig_IQA_interval_dist_df.hist()"
   ],
   "outputs": [],
   "metadata": {}
  },
  {
   "cell_type": "code",
   "execution_count": null,
   "source": [
    "trained_IQA_int_dist_df.hist()"
   ],
   "outputs": [],
   "metadata": {}
  },
  {
   "cell_type": "code",
   "execution_count": null,
   "source": [
    "orig_IQA_interval_dist_df['type'] = 'original'\n",
    "trained_IQA_int_dist_df['type'] = 'trained'\n",
    "orig_IQA_interval_dist_df.reset_index(inplace=True)\n",
    "trained_IQA_int_dist_df.reset_index(inplace=True)"
   ],
   "outputs": [],
   "metadata": {}
  },
  {
   "cell_type": "code",
   "execution_count": null,
   "source": [
    "sns.barplot(x=\"IQA_interval\", y=\"is_correct\", hue=\"type\", data=pd.concat([orig_IQA_interval_dist_df, trained_IQA_int_dist_df]))"
   ],
   "outputs": [],
   "metadata": {}
  },
  {
   "cell_type": "code",
   "execution_count": null,
   "source": [
    "df = records_df.sort_values(by=['IQA_score'])\n",
    "df.groupby(by='IQA_interval').count()"
   ],
   "outputs": [],
   "metadata": {}
  },
  {
   "cell_type": "code",
   "execution_count": null,
   "source": [
    "df1[df1['epoch']==df1['epoch'].max()].groupby(by=[\"IQA_interval\"]).count()"
   ],
   "outputs": [],
   "metadata": {}
  },
  {
   "cell_type": "code",
   "execution_count": null,
   "source": [
    "orig_IQA_interval_dist_df['is_correct'].sum()"
   ],
   "outputs": [],
   "metadata": {}
  },
  {
   "cell_type": "code",
   "execution_count": null,
   "source": [
    "trained_IQA_int_dist_df['is_correct'].sum()"
   ],
   "outputs": [],
   "metadata": {}
  },
  {
   "cell_type": "markdown",
   "source": [
    "# Original Model on Original Dataset"
   ],
   "metadata": {}
  },
  {
   "cell_type": "code",
   "execution_count": null,
   "source": [
    "original_dataset = GeneralDataset(pathlib2.Path(\"./data/cifar10_pytorch/val\"))\n",
    "original_dataloader = torch.utils.data.DataLoader(original_dataset, batch_size=batch_size, shuffle=True, num_workers=4)"
   ],
   "outputs": [],
   "metadata": {}
  },
  {
   "cell_type": "code",
   "execution_count": null,
   "source": [
    "avg_loss, avg_acc, _ = eval_model(original_dataloader, original_model_ft, criterion, device)\n",
    "print(f\"avg_loss: {avg_loss}, avg_acc: {avg_acc}\")\n",
    "performance_results.append({'model': 'original', 'dataset': 'original', 'accuracy': avg_acc, 'loss': avg_loss})"
   ],
   "outputs": [],
   "metadata": {}
  },
  {
   "cell_type": "markdown",
   "source": [
    "# New Model on Original Dataset"
   ],
   "metadata": {}
  },
  {
   "cell_type": "code",
   "execution_count": null,
   "source": [
    "avg_loss, avg_acc, _ = eval_model(original_dataloader, model_ft, criterion, device)\n",
    "print(f\"avg_loss: {avg_loss}, avg_acc: {avg_acc}\")\n",
    "performance_results.append({'model': 'finetuned', 'dataset': 'original', 'accuracy': avg_acc, 'loss': avg_loss})"
   ],
   "outputs": [],
   "metadata": {}
  },
  {
   "cell_type": "markdown",
   "source": [
    "# Transformed Model on Cifar10C"
   ],
   "metadata": {}
  },
  {
   "cell_type": "code",
   "execution_count": null,
   "source": [
    "cifar10c_dataset = GeneralDataset(pathlib2.Path(\"./data/cifar-10-c-images/contrast\"))\n",
    "cifar10c_dataloader = torch.utils.data.DataLoader(cifar10c_dataset, batch_size=batch_size, shuffle=True, num_workers=4)"
   ],
   "outputs": [],
   "metadata": {}
  },
  {
   "cell_type": "code",
   "execution_count": null,
   "source": [
    "avg_loss, avg_acc, _ = eval_model(cifar10c_dataloader, model_ft, criterion, device)\n",
    "print(f\"avg_loss: {avg_loss}, avg_acc: {avg_acc}\")\n",
    "performance_results.append({'model': 'finetuned', 'dataset': 'cifar10c', 'accuracy': avg_acc, 'loss': avg_loss})"
   ],
   "outputs": [],
   "metadata": {}
  },
  {
   "cell_type": "markdown",
   "source": [
    "# Original Model on Cifar10C"
   ],
   "metadata": {}
  },
  {
   "cell_type": "code",
   "execution_count": null,
   "source": [
    "avg_loss, avg_acc, _ = eval_model(cifar10c_dataloader, original_model_ft, criterion, device)\n",
    "print(f\"avg_loss: {avg_loss}, avg_acc: {avg_acc}\")\n",
    "performance_results.append({'model': 'original', 'dataset': 'cifar10c', 'accuracy': avg_acc, 'loss': avg_loss})"
   ],
   "outputs": [],
   "metadata": {}
  },
  {
   "cell_type": "markdown",
   "source": [],
   "metadata": {}
  },
  {
   "cell_type": "code",
   "execution_count": null,
   "source": [
    "final_result_df = pd.DataFrame(data=performance_results)\n",
    "final_result_df"
   ],
   "outputs": [],
   "metadata": {}
  },
  {
   "cell_type": "markdown",
   "source": [],
   "metadata": {}
  },
  {
   "cell_type": "code",
   "execution_count": null,
   "source": [],
   "outputs": [],
   "metadata": {}
  },
  {
   "cell_type": "code",
   "execution_count": null,
   "source": [],
   "outputs": [],
   "metadata": {}
  },
  {
   "cell_type": "code",
   "execution_count": null,
   "source": [],
   "outputs": [],
   "metadata": {}
  },
  {
   "cell_type": "code",
   "execution_count": null,
   "source": [],
   "outputs": [],
   "metadata": {}
  }
 ]
}