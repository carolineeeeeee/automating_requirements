{
 "metadata": {
  "language_info": {
   "codemirror_mode": {
    "name": "ipython",
    "version": 3
   },
   "file_extension": ".py",
   "mimetype": "text/x-python",
   "name": "python",
   "nbconvert_exporter": "python",
   "pygments_lexer": "ipython3",
   "version": "3.8.11"
  },
  "orig_nbformat": 4,
  "kernelspec": {
   "name": "python3",
   "display_name": "Python 3.8.11 64-bit ('auto-req': conda)"
  },
  "interpreter": {
   "hash": "353602fd79615d284153937c8fa2fab4dd1704e29559ebcbddbab3eee7f3315e"
  }
 },
 "nbformat": 4,
 "nbformat_minor": 2,
 "cells": [
  {
   "cell_type": "code",
   "execution_count": 4,
   "source": [
    "from tqdm import tqdm\n",
    "from __future__ import print_function\n",
    "from __future__ import division\n",
    "import torch\n",
    "import torch.nn as nn\n",
    "import torch.optim as optim\n",
    "import numpy as np\n",
    "import torchvision\n",
    "from torchvision import datasets, models, transforms\n",
    "import matplotlib.pyplot as plt\n",
    "from src import constant\n",
    "from robustbench import load_model\n",
    "import time\n",
    "import os\n",
    "import copy\n",
    "print(\"PyTorch Version: \",torch.__version__)\n",
    "print(\"Torchvision Version: \",torchvision.__version__)"
   ],
   "outputs": [
    {
     "output_type": "stream",
     "name": "stdout",
     "text": [
      "PyTorch Version:  1.9.0\n",
      "Torchvision Version:  0.10.0\n"
     ]
    }
   ],
   "metadata": {}
  },
  {
   "cell_type": "code",
   "execution_count": 13,
   "source": [
    "# Models to choose from [resnet, alexnet, vgg, squeezenet, densenet, inception]\n",
    "model_name = \"Standard\"\n",
    "num_classes = 10\n",
    "batch_size = 8\n",
    "num_epochs = 15\n",
    "feature_extract = False"
   ],
   "outputs": [],
   "metadata": {}
  },
  {
   "cell_type": "code",
   "execution_count": 25,
   "source": [
    "def train_model(model, dataloaders, criterion, optimizer, num_epochs=25):\n",
    "    since = time.time()\n",
    "\n",
    "    val_acc_history = []\n",
    "    \n",
    "    best_model_wts = copy.deepcopy(model.state_dict())\n",
    "    best_acc = 0.0\n",
    "\n",
    "    for epoch in range(num_epochs):\n",
    "        print('Epoch {}/{}'.format(epoch, num_epochs - 1))\n",
    "        print('-' * 10)\n",
    "\n",
    "        # Each epoch has a training and validation phase\n",
    "        for phase in ['train', 'val']:\n",
    "            if phase == 'train':\n",
    "                model.train()  # Set model to training mode\n",
    "            else:\n",
    "                model.eval()   # Set model to evaluate mode\n",
    "\n",
    "            running_loss = 0.0\n",
    "            running_corrects = 0\n",
    "\n",
    "            # Iterate over data.\n",
    "            for inputs, labels in tqdm(dataloaders[phase]):\n",
    "                inputs = inputs.to(device)\n",
    "                labels = labels.to(device)\n",
    "\n",
    "                # zero the parameter gradients\n",
    "                optimizer.zero_grad()\n",
    "\n",
    "                # forward\n",
    "                # track history if only in train\n",
    "                with torch.set_grad_enabled(phase == 'train'):\n",
    "                    # Get model outputs and calculate loss\n",
    "                    # Special case for inception because in training it has an auxiliary output. In train\n",
    "                    #   mode we calculate the loss by summing the final output and the auxiliary output\n",
    "                    #   but in testing we only consider the final output.\n",
    "                    if phase == 'train':\n",
    "                        # From https://discuss.pytorch.org/t/how-to-optimize-inception-model-with-auxiliary-classifiers/7958\n",
    "                        outputs = model(inputs)\n",
    "                        loss = criterion(outputs, labels)\n",
    "                    else:\n",
    "                        outputs = model(inputs)\n",
    "                        loss = criterion(outputs, labels)\n",
    "\n",
    "                    _, preds = torch.max(outputs, 1)\n",
    "\n",
    "                    # backward + optimize only if in training phase\n",
    "                    if phase == 'train':\n",
    "                        loss.backward()\n",
    "                        optimizer.step()\n",
    "\n",
    "                # statistics\n",
    "                running_loss += loss.item() * inputs.size(0)\n",
    "                running_corrects += torch.sum(preds == labels.data)\n",
    "\n",
    "            epoch_loss = running_loss / len(dataloaders[phase].dataset)\n",
    "            epoch_acc = running_corrects.double() / len(dataloaders[phase].dataset)\n",
    "\n",
    "            print('{} Loss: {:.4f} Acc: {:.4f}'.format(phase, epoch_loss, epoch_acc))\n",
    "\n",
    "            # deep copy the model\n",
    "            if phase == 'val' and epoch_acc > best_acc:\n",
    "                best_acc = epoch_acc\n",
    "                best_model_wts = copy.deepcopy(model.state_dict())\n",
    "            if phase == 'val':\n",
    "                val_acc_history.append(epoch_acc)\n",
    "\n",
    "        print()\n",
    "\n",
    "    time_elapsed = time.time() - since\n",
    "    print('Training complete in {:.0f}m {:.0f}s'.format(time_elapsed // 60, time_elapsed % 60))\n",
    "    print('Best val Acc: {:4f}'.format(best_acc))\n",
    "\n",
    "    # load best model weights\n",
    "    model.load_state_dict(best_model_wts)\n",
    "    return model, val_acc_history"
   ],
   "outputs": [],
   "metadata": {}
  },
  {
   "cell_type": "code",
   "execution_count": 26,
   "source": [
    "def set_parameter_requires_grad(model, feature_extracting):\n",
    "    if feature_extracting:\n",
    "        for param in model.parameters():\n",
    "            param.requires_grad = False"
   ],
   "outputs": [],
   "metadata": {}
  },
  {
   "cell_type": "code",
   "execution_count": 27,
   "source": [
    "data_transforms = {\n",
    "    'train': transforms.Compose([\n",
    "        transforms.ToTensor(),\n",
    "    ]),\n",
    "    'val': transforms.Compose([\n",
    "        transforms.ToTensor(),\n",
    "    ]),\n",
    "}\n",
    "dataset = torchvision.datasets.CIFAR10(root=constant.DATA_DIR, train=True, download=True,\n",
    "                                           transform=torchvision.transforms.ToTensor())\n",
    "image_datasets = {\n",
    "    'train': torchvision.datasets.CIFAR10(root='./data', train=True, transform=data_transforms['train'], download=True),\n",
    "    'val': torchvision.datasets.CIFAR10(root='./data', train=False, transform=data_transforms['val'], download=True)\n",
    "}\n",
    "dataloader = torch.utils.data.DataLoader(dataset, batch_size=5, shuffle=False, num_workers=4)\n",
    "# Create training and validation dataloaders\n",
    "dataloaders_dict = {x: torch.utils.data.DataLoader(image_datasets[x], batch_size=batch_size, shuffle=True, num_workers=4) for x in ['train', 'val']}\n",
    "\n",
    "# Detect if we have a GPU available\n",
    "device = torch.device(\"cuda:0\" if torch.cuda.is_available() else \"cpu\")\n",
    "\n",
    "model_ft = load_model(\"Standard\")\n",
    "set_parameter_requires_grad(model_ft, feature_extract)\n",
    "model_ft = model_ft.to(device)"
   ],
   "outputs": [
    {
     "output_type": "stream",
     "name": "stdout",
     "text": [
      "Files already downloaded and verified\n",
      "Files already downloaded and verified\n",
      "Files already downloaded and verified\n"
     ]
    }
   ],
   "metadata": {}
  },
  {
   "cell_type": "code",
   "execution_count": 28,
   "source": [
    "params_to_update = model_ft.parameters()\n",
    "print(\"Params to learn:\")\n",
    "if feature_extract:\n",
    "    params_to_update = []\n",
    "    for name,param in model_ft.named_parameters():\n",
    "        if param.requires_grad == True:\n",
    "            params_to_update.append(param)\n",
    "            print(\"\\t\",name)\n",
    "else:\n",
    "    for name,param in model_ft.named_parameters():\n",
    "        if param.requires_grad == True:\n",
    "            print(\"\\t\",name)"
   ],
   "outputs": [
    {
     "output_type": "stream",
     "name": "stdout",
     "text": [
      "Params to learn:\n",
      "\t conv1.weight\n",
      "\t block1.layer.0.bn1.weight\n",
      "\t block1.layer.0.bn1.bias\n",
      "\t block1.layer.0.conv1.weight\n",
      "\t block1.layer.0.bn2.weight\n",
      "\t block1.layer.0.bn2.bias\n",
      "\t block1.layer.0.conv2.weight\n",
      "\t block1.layer.0.convShortcut.weight\n",
      "\t block1.layer.1.bn1.weight\n",
      "\t block1.layer.1.bn1.bias\n",
      "\t block1.layer.1.conv1.weight\n",
      "\t block1.layer.1.bn2.weight\n",
      "\t block1.layer.1.bn2.bias\n",
      "\t block1.layer.1.conv2.weight\n",
      "\t block1.layer.2.bn1.weight\n",
      "\t block1.layer.2.bn1.bias\n",
      "\t block1.layer.2.conv1.weight\n",
      "\t block1.layer.2.bn2.weight\n",
      "\t block1.layer.2.bn2.bias\n",
      "\t block1.layer.2.conv2.weight\n",
      "\t block1.layer.3.bn1.weight\n",
      "\t block1.layer.3.bn1.bias\n",
      "\t block1.layer.3.conv1.weight\n",
      "\t block1.layer.3.bn2.weight\n",
      "\t block1.layer.3.bn2.bias\n",
      "\t block1.layer.3.conv2.weight\n",
      "\t block2.layer.0.bn1.weight\n",
      "\t block2.layer.0.bn1.bias\n",
      "\t block2.layer.0.conv1.weight\n",
      "\t block2.layer.0.bn2.weight\n",
      "\t block2.layer.0.bn2.bias\n",
      "\t block2.layer.0.conv2.weight\n",
      "\t block2.layer.0.convShortcut.weight\n",
      "\t block2.layer.1.bn1.weight\n",
      "\t block2.layer.1.bn1.bias\n",
      "\t block2.layer.1.conv1.weight\n",
      "\t block2.layer.1.bn2.weight\n",
      "\t block2.layer.1.bn2.bias\n",
      "\t block2.layer.1.conv2.weight\n",
      "\t block2.layer.2.bn1.weight\n",
      "\t block2.layer.2.bn1.bias\n",
      "\t block2.layer.2.conv1.weight\n",
      "\t block2.layer.2.bn2.weight\n",
      "\t block2.layer.2.bn2.bias\n",
      "\t block2.layer.2.conv2.weight\n",
      "\t block2.layer.3.bn1.weight\n",
      "\t block2.layer.3.bn1.bias\n",
      "\t block2.layer.3.conv1.weight\n",
      "\t block2.layer.3.bn2.weight\n",
      "\t block2.layer.3.bn2.bias\n",
      "\t block2.layer.3.conv2.weight\n",
      "\t block3.layer.0.bn1.weight\n",
      "\t block3.layer.0.bn1.bias\n",
      "\t block3.layer.0.conv1.weight\n",
      "\t block3.layer.0.bn2.weight\n",
      "\t block3.layer.0.bn2.bias\n",
      "\t block3.layer.0.conv2.weight\n",
      "\t block3.layer.0.convShortcut.weight\n",
      "\t block3.layer.1.bn1.weight\n",
      "\t block3.layer.1.bn1.bias\n",
      "\t block3.layer.1.conv1.weight\n",
      "\t block3.layer.1.bn2.weight\n",
      "\t block3.layer.1.bn2.bias\n",
      "\t block3.layer.1.conv2.weight\n",
      "\t block3.layer.2.bn1.weight\n",
      "\t block3.layer.2.bn1.bias\n",
      "\t block3.layer.2.conv1.weight\n",
      "\t block3.layer.2.bn2.weight\n",
      "\t block3.layer.2.bn2.bias\n",
      "\t block3.layer.2.conv2.weight\n",
      "\t block3.layer.3.bn1.weight\n",
      "\t block3.layer.3.bn1.bias\n",
      "\t block3.layer.3.conv1.weight\n",
      "\t block3.layer.3.bn2.weight\n",
      "\t block3.layer.3.bn2.bias\n",
      "\t block3.layer.3.conv2.weight\n",
      "\t bn1.weight\n",
      "\t bn1.bias\n",
      "\t fc.weight\n",
      "\t fc.bias\n"
     ]
    }
   ],
   "metadata": {}
  },
  {
   "cell_type": "code",
   "execution_count": 29,
   "source": [
    "optimizer_ft = optim.SGD(params_to_update, lr=0.001, momentum=0.9)\n",
    "criterion = nn.CrossEntropyLoss()"
   ],
   "outputs": [],
   "metadata": {}
  },
  {
   "cell_type": "code",
   "execution_count": 30,
   "source": [
    "# Train and evaluate\n",
    "model_ft, hist = train_model(model_ft, dataloaders_dict, criterion, optimizer_ft, num_epochs=num_epochs)"
   ],
   "outputs": [
    {
     "output_type": "stream",
     "name": "stderr",
     "text": [
      "  0%|          | 0/6250 [00:00<?, ?it/s]"
     ]
    },
    {
     "output_type": "stream",
     "name": "stdout",
     "text": [
      "Epoch 0/14\n",
      "----------\n"
     ]
    },
    {
     "output_type": "stream",
     "name": "stderr",
     "text": [
      "  9%|▉         | 589/6250 [08:42<1:28:14,  1.07it/s]"
     ]
    }
   ],
   "metadata": {}
  },
  {
   "cell_type": "code",
   "execution_count": null,
   "source": [],
   "outputs": [],
   "metadata": {}
  },
  {
   "cell_type": "code",
   "execution_count": null,
   "source": [],
   "outputs": [],
   "metadata": {}
  }
 ]
}