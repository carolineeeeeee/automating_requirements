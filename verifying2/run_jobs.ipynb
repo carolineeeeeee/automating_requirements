{
 "cells": [
  {
   "cell_type": "code",
   "execution_count": 2,
   "source": [
    "import pickle\n",
    "import shutil\n",
    "import pandas as pd\n",
    "from src import utils\n",
    "from src import constant\n",
    "from src.job import Cifar10Job\n",
    "from src.constant import ROBUSTBENCH_CIFAR10_MODEL_NAMES, TRANSFORMATIONS, GAUSSIAN_NOISE"
   ],
   "outputs": [],
   "metadata": {}
  },
  {
   "cell_type": "code",
   "execution_count": 4,
   "source": [
    "jobs_queue_path = constant.ROOT / 'jobs'\n",
    "finished_job_path = constant.ROOT / 'finished_jobs'"
   ],
   "outputs": [],
   "metadata": {}
  },
  {
   "cell_type": "code",
   "execution_count": null,
   "source": [
    "utils.clean_dir(jobs_queue_path)\n",
    "utils.clean_dir(finished_job_path)"
   ],
   "outputs": [],
   "metadata": {}
  },
  {
   "cell_type": "code",
   "execution_count": 3,
   "source": [
    "source = constant.ROOT / 'data' / 'cifar10_pytorch' / 'val'\n",
    "destination = constant.ROOT / 'bootstrap_data' / 'cifar10_pytorch'"
   ],
   "outputs": [],
   "metadata": {}
  },
  {
   "cell_type": "code",
   "execution_count": 4,
   "source": [
    "counter = 0\n",
    "for model_name in ROBUSTBENCH_CIFAR10_MODEL_NAMES[:3]:\n",
    "    job = Cifar10Job(source, destination, num_sample_iter=2, sample_size=10, transformation=GAUSSIAN_NOISE,\n",
    "                 model_name=model_name, rq_type='abs')\n",
    "    f = open(jobs_queue_path / f'{counter}.pickle', 'wb')\n",
    "    counter += 1\n",
    "    pickle.dump(job, f)\n",
    "    f.close()"
   ],
   "outputs": [],
   "metadata": {}
  },
  {
   "cell_type": "code",
   "execution_count": 5,
   "source": [
    "for job_file in jobs_queue_path.iterdir():\n",
    "    f = open(job_file, 'rb')\n",
    "    job = pickle.load(f)\n",
    "    try:\n",
    "        job.run()\n",
    "        f = open(job_file, 'wb')\n",
    "        pickle.dump(job, f)\n",
    "        shutil.move(job_file, finished_job_path/job_file.name)\n",
    "        # print(job)\n",
    "    except Exception as e:\n",
    "        print(\"error\")\n",
    "        print(e)"
   ],
   "outputs": [
    {
     "output_type": "stream",
     "name": "stdout",
     "text": [
      "07-27-2021 09:35:04 | INFO | bootstrap.py | 56 | bootstrapping\n"
     ]
    },
    {
     "output_type": "stream",
     "name": "stderr",
     "text": [
      "100%|██████████| 2/2 [00:01<00:00,  1.44it/s]\n"
     ]
    },
    {
     "output_type": "stream",
     "name": "stdout",
     "text": [
      "07-27-2021 09:35:06 | INFO | evaluate.py | 37 | Device: cpu\n"
     ]
    },
    {
     "output_type": "stream",
     "name": "stderr",
     "text": [
      "100%|██████████| 20/20 [00:04<00:00,  4.89it/s, Iteration=1]"
     ]
    },
    {
     "output_type": "stream",
     "name": "stdout",
     "text": [
      "--------------------------------------------\n",
      "Verifying Absolute Requirement: \n",
      "Estimated mean from bootstrapping: 0.95\n",
      "Estimated sigma from bootstrapping: 0.04999999999999999\n",
      "confidence of satisfication:0.15865525393145674\n",
      "requirement NOT SATISFIED\n",
      "--------------------------------------------\n"
     ]
    },
    {
     "output_type": "stream",
     "name": "stderr",
     "text": [
      "\n"
     ]
    },
    {
     "output_type": "stream",
     "name": "stdout",
     "text": [
      "07-27-2021 09:35:13 | INFO | bootstrap.py | 56 | bootstrapping\n"
     ]
    },
    {
     "output_type": "stream",
     "name": "stderr",
     "text": [
      "100%|██████████| 2/2 [00:01<00:00,  1.39it/s]\n"
     ]
    },
    {
     "output_type": "stream",
     "name": "stdout",
     "text": [
      "07-27-2021 09:35:15 | INFO | evaluate.py | 37 | Device: cpu\n"
     ]
    },
    {
     "output_type": "stream",
     "name": "stderr",
     "text": [
      "100%|██████████| 20/20 [00:02<00:00,  6.94it/s, Iteration=1]"
     ]
    },
    {
     "output_type": "stream",
     "name": "stdout",
     "text": [
      "--------------------------------------------\n",
      "Verifying Absolute Requirement: \n",
      "Estimated mean from bootstrapping: 0.95\n",
      "Estimated sigma from bootstrapping: 0.04999999999999999\n",
      "confidence of satisfication:0.15865525393145674\n",
      "requirement NOT SATISFIED\n",
      "--------------------------------------------\n",
      "07-27-2021 09:35:21 | INFO | bootstrap.py | 56 | bootstrapping\n"
     ]
    },
    {
     "output_type": "stream",
     "name": "stderr",
     "text": [
      "100%|██████████| 2/2 [00:01<00:00,  1.51it/s]\n",
      "100%|██████████| 20/20 [00:07<00:00,  2.71it/s, Iteration=1]\n"
     ]
    },
    {
     "output_type": "stream",
     "name": "stdout",
     "text": [
      "07-27-2021 09:35:23 | INFO | evaluate.py | 37 | Device: cpu\n"
     ]
    },
    {
     "output_type": "stream",
     "name": "stderr",
     "text": [
      "100%|██████████| 20/20 [00:02<00:00,  7.46it/s, Iteration=1]"
     ]
    },
    {
     "output_type": "stream",
     "name": "stdout",
     "text": [
      "--------------------------------------------\n",
      "Verifying Absolute Requirement: \n",
      "Estimated mean from bootstrapping: 1.0\n",
      "Estimated sigma from bootstrapping: 0.0\n",
      "confidence of satisfication:nan\n",
      "requirement NOT SATISFIED\n",
      "--------------------------------------------\n"
     ]
    },
    {
     "output_type": "stream",
     "name": "stderr",
     "text": [
      "/home/huakun/anaconda3/envs/AI/lib/python3.8/site-packages/scipy/stats/_distn_infrastructure.py:1835: RuntimeWarning: divide by zero encountered in true_divide\n",
      "  x = np.asarray((x - loc)/scale, dtype=dtyp)\n",
      "/home/huakun/anaconda3/envs/AI/lib/python3.8/site-packages/scipy/stats/_distn_infrastructure.py:1835: RuntimeWarning: invalid value encountered in true_divide\n",
      "  x = np.asarray((x - loc)/scale, dtype=dtyp)\n",
      "/home/huakun/anaconda3/envs/AI/lib/python3.8/site-packages/scipy/stats/_distn_infrastructure.py:1919: RuntimeWarning: invalid value encountered in double_scalars\n",
      "  x = np.asarray((x - loc)/scale, dtype=dtyp)\n"
     ]
    },
    {
     "output_type": "display_data",
     "data": {
      "text/plain": [
       "<Figure size 432x288 with 1 Axes>"
      ],
      "image/png": "[encoded data removed]"
     },
     "metadata": {
      "needs_background": "light"
     }
    },
    {
     "output_type": "stream",
     "name": "stderr",
     "text": [
      "100%|██████████| 20/20 [00:03<00:00,  6.62it/s, Iteration=1]\n"
     ]
    }
   ],
   "metadata": {}
  },
  {
   "cell_type": "code",
   "execution_count": 5,
   "source": [
    "finished_jobs = []\n",
    "for job_file in finished_job_path.iterdir():\n",
    "    f = open(job_file, 'rb')\n",
    "    job = pickle.load(f)\n",
    "    finished_jobs.append(job.to_dict())\n",
    "    print(job)"
   ],
   "outputs": [
    {
     "output_type": "stream",
     "name": "stdout",
     "text": [
      "\n",
      "        source: /home/huakun/Documents/summer-research/automating_requirements/verifying2/data/cifar10_pytorch/val\n",
      "        destination: /home/huakun/Documents/summer-research/automating_requirements/verifying2/bootstrap_data/cifar10_pytorch\n",
      "        num_sample_iter: 2\n",
      "        sample_size: 10\n",
      "        done: True\n",
      "        success: False\n",
      "        model_name: Chen2020Adversarial\n",
      "        rq_type: abs\n",
      "        transformation: gaussian_noise\n",
      "        conf: 0.15865525393145674\n",
      "        mu: 0.95\n",
      "        sigma: 0.04999999999999999\n",
      "        satisfied: False\n",
      "        \n",
      "\n",
      "        source: /home/huakun/Documents/summer-research/automating_requirements/verifying2/data/cifar10_pytorch/val\n",
      "        destination: /home/huakun/Documents/summer-research/automating_requirements/verifying2/bootstrap_data/cifar10_pytorch\n",
      "        num_sample_iter: 2\n",
      "        sample_size: 10\n",
      "        done: True\n",
      "        success: False\n",
      "        model_name: Chen2020Efficient\n",
      "        rq_type: abs\n",
      "        transformation: gaussian_noise\n",
      "        conf: 0.15865525393145674\n",
      "        mu: 0.95\n",
      "        sigma: 0.04999999999999999\n",
      "        satisfied: False\n",
      "        \n",
      "\n",
      "        source: /home/huakun/Documents/summer-research/automating_requirements/verifying2/data/cifar10_pytorch/val\n",
      "        destination: /home/huakun/Documents/summer-research/automating_requirements/verifying2/bootstrap_data/cifar10_pytorch\n",
      "        num_sample_iter: 2\n",
      "        sample_size: 10\n",
      "        done: True\n",
      "        success: False\n",
      "        model_name: Carmon2019Unlabeled\n",
      "        rq_type: abs\n",
      "        transformation: gaussian_noise\n",
      "        conf: nan\n",
      "        mu: 1.0\n",
      "        sigma: 0.0\n",
      "        satisfied: False\n",
      "        \n"
     ]
    }
   ],
   "metadata": {}
  },
  {
   "cell_type": "code",
   "execution_count": 6,
   "source": [
    "pd.DataFrame(data=finished_jobs)"
   ],
   "outputs": [
    {
     "output_type": "execute_result",
     "data": {
      "text/plain": [
       "                                              source  \\\n",
       "0  /home/huakun/Documents/summer-research/automat...   \n",
       "1  /home/huakun/Documents/summer-research/automat...   \n",
       "2  /home/huakun/Documents/summer-research/automat...   \n",
       "\n",
       "                                         destination  num_sample_iter  \\\n",
       "0  /home/huakun/Documents/summer-research/automat...                2   \n",
       "1  /home/huakun/Documents/summer-research/automat...                2   \n",
       "2  /home/huakun/Documents/summer-research/automat...                2   \n",
       "\n",
       "   sample_size  done  success           model_name rq_type  transformation  \\\n",
       "0           10  True    False  Chen2020Adversarial     abs  gaussian_noise   \n",
       "1           10  True    False    Chen2020Efficient     abs  gaussian_noise   \n",
       "2           10  True    False  Carmon2019Unlabeled     abs  gaussian_noise   \n",
       "\n",
       "       conf    mu  sigma  satisfied  \n",
       "0  0.158655  0.95   0.05      False  \n",
       "1  0.158655  0.95   0.05      False  \n",
       "2       NaN  1.00   0.00      False  "
      ],
      "text/html": [
       "<div>\n",
       "<style scoped>\n",
       "    .dataframe tbody tr th:only-of-type {\n",
       "        vertical-align: middle;\n",
       "    }\n",
       "\n",
       "    .dataframe tbody tr th {\n",
       "        vertical-align: top;\n",
       "    }\n",
       "\n",
       "    .dataframe thead th {\n",
       "        text-align: right;\n",
       "    }\n",
       "</style>\n",
       "<table border=\"1\" class=\"dataframe\">\n",
       "  <thead>\n",
       "    <tr style=\"text-align: right;\">\n",
       "      <th></th>\n",
       "      <th>source</th>\n",
       "      <th>destination</th>\n",
       "      <th>num_sample_iter</th>\n",
       "      <th>sample_size</th>\n",
       "      <th>done</th>\n",
       "      <th>success</th>\n",
       "      <th>model_name</th>\n",
       "      <th>rq_type</th>\n",
       "      <th>transformation</th>\n",
       "      <th>conf</th>\n",
       "      <th>mu</th>\n",
       "      <th>sigma</th>\n",
       "      <th>satisfied</th>\n",
       "    </tr>\n",
       "  </thead>\n",
       "  <tbody>\n",
       "    <tr>\n",
       "      <th>0</th>\n",
       "      <td>/home/huakun/Documents/summer-research/automat...</td>\n",
       "      <td>/home/huakun/Documents/summer-research/automat...</td>\n",
       "      <td>2</td>\n",
       "      <td>10</td>\n",
       "      <td>True</td>\n",
       "      <td>False</td>\n",
       "      <td>Chen2020Adversarial</td>\n",
       "      <td>abs</td>\n",
       "      <td>gaussian_noise</td>\n",
       "      <td>0.158655</td>\n",
       "      <td>0.95</td>\n",
       "      <td>0.05</td>\n",
       "      <td>False</td>\n",
       "    </tr>\n",
       "    <tr>\n",
       "      <th>1</th>\n",
       "      <td>/home/huakun/Documents/summer-research/automat...</td>\n",
       "      <td>/home/huakun/Documents/summer-research/automat...</td>\n",
       "      <td>2</td>\n",
       "      <td>10</td>\n",
       "      <td>True</td>\n",
       "      <td>False</td>\n",
       "      <td>Chen2020Efficient</td>\n",
       "      <td>abs</td>\n",
       "      <td>gaussian_noise</td>\n",
       "      <td>0.158655</td>\n",
       "      <td>0.95</td>\n",
       "      <td>0.05</td>\n",
       "      <td>False</td>\n",
       "    </tr>\n",
       "    <tr>\n",
       "      <th>2</th>\n",
       "      <td>/home/huakun/Documents/summer-research/automat...</td>\n",
       "      <td>/home/huakun/Documents/summer-research/automat...</td>\n",
       "      <td>2</td>\n",
       "      <td>10</td>\n",
       "      <td>True</td>\n",
       "      <td>False</td>\n",
       "      <td>Carmon2019Unlabeled</td>\n",
       "      <td>abs</td>\n",
       "      <td>gaussian_noise</td>\n",
       "      <td>NaN</td>\n",
       "      <td>1.00</td>\n",
       "      <td>0.00</td>\n",
       "      <td>False</td>\n",
       "    </tr>\n",
       "  </tbody>\n",
       "</table>\n",
       "</div>"
      ]
     },
     "metadata": {},
     "execution_count": 6
    }
   ],
   "metadata": {}
  }
 ],
 "metadata": {
  "orig_nbformat": 4,
  "language_info": {
   "name": "python",
   "version": "3.8.10",
   "mimetype": "text/x-python",
   "codemirror_mode": {
    "name": "ipython",
    "version": 3
   },
   "pygments_lexer": "ipython3",
   "nbconvert_exporter": "python",
   "file_extension": ".py"
  },
  "kernelspec": {
   "name": "python3",
   "display_name": "Python 3.8.10 64-bit ('AI': conda)"
  },
  "interpreter": {
   "hash": "d53e0975b3f99f7e4cab8ca370a3b6bcfd0e3ada527133be257f64ea10e8700c"
  }
 },
 "nbformat": 4,
 "nbformat_minor": 2
}